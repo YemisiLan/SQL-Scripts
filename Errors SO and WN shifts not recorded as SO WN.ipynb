{
    "metadata": {
        "kernelspec": {
            "name": "SQL",
            "display_name": "SQL",
            "language": "sql"
        },
        "language_info": {
            "name": "sql",
            "version": ""
        }
    },
    "nbformat_minor": 2,
    "nbformat": 4,
    "cells": [
        {
            "cell_type": "markdown",
            "source": [
                "    Name: Yemisi Adeoluwa\r\n",
                "    Date: 19/11/19\r\n",
                "    Description: Overnight shifts not recorded as sleepovers or waking night, flag is used to identify then.\r\n",
                "    Comment: comments used below to explain how the flags works"
            ],
            "metadata": {
                "azdata_cell_guid": "e576b0de-bfd8-4bc6-9732-a124ee8da040"
            }
        },
        {
            "cell_type": "code",
            "source": [
                "SELECT DISTINCT\r\n",
                "       SP1.SHIFT_PROPERTY_CODE as Service_ID\r\n",
                "      ,SP1.SHIFT_PROPERTY_DESCRIPTION as Supported_Person\r\n",
                "\t  ,EE.LOGIN_ID AS iTrent_ID\r\n",
                "\t  ,EE.FULL_NAME As Staff_Member\r\n",
                "      ,SR.DESCRIPTION AS Team_Facilitator\r\n",
                "\t  ,ORGPA.ORG_NAME AS Area\r\n",
                "\t  ,SS.SUBSHIFT_ID AS Subshift_ID\r\n",
                "\t  ,S.SHIFT_ID AS Shift_ID\r\n",
                "\t  ,S.IS_APPROVED\r\n",
                "\t  ,S.IS_VERIFIED\r\n",
                "\t  ,CONVERT(CHAR(10),SA.PAY_START,103) As Delivered_Pay_Start_Date\r\n",
                "\t ,CONVERT(VARCHAR(5),SA.PAY_START,108) As Delivered_Pay_Start_Time\r\n",
                "\t ,CONVERT(CHAR(10),SA.PAY_END,103) As Delivered_Pay_END_Date\r\n",
                "\t ,CONVERT(VARCHAR(5),SA.PAY_END,108) As Delivered_Pay_End\r\n",
                "\t ,CAST((SS.PAID_TIME / 60) AS VARCHAR(10)) + ' hrs' + ' ' + CAST (SS.PAID_TIME %60 AS VARCHAR(10)) + ' mins'  AS Shift_Delivered_Hrs\r\n",
                "\t ,SS.PAID_TIME AS Time_Paid_Mins\r\n",
                "\t ,SS.SHIFT_TYPE_NAME as Shift_Type\r\n",
                "\t ,SP2.SHIFT_PROPERTY_DESCRIPTION as Service_Type\r\n",
                ""
            ],
            "metadata": {
                "azdata_cell_guid": "c53eddfe-ecc8-428d-a43a-8f8759f8a9de"
            },
            "outputs": [],
            "execution_count": null
        },
        {
            "cell_type": "markdown",
            "source": [
                "     If the PA shift Ends on a different date to the start date between 8PM and 9AM the next morning\r\n",
                "\t and the shift type is recorded as Non Leave for the same service then flags as 'Y'\r\n",
                "\t which means that the users has inputted the shift type inaccurately\r\n",
                "\t but if not then flags it as 'N' "
            ],
            "metadata": {
                "azdata_cell_guid": "d264ce14-f508-4693-848c-e7ae505371d7"
            }
        },
        {
            "cell_type": "code",
            "source": [
                ",CASE \n",
                "	      WHEN CONVERT(CHAR(10),SA.PAY_START,103) != CONVERT(CHAR(10),SA.PAY_END,103)\n",
                "		  AND CONVERT(VARCHAR(5),SA.PAY_START,108)>= '20:00' \n",
                "			 AND CONVERT(VARCHAR(5),SA.PAY_END,108) <= '09:00'\n",
                "		         AND SS.SHIFT_TYPE_NAME = 'Non Leave'\n",
                "			     AND EE.FULL_NAME = EE.FULL_NAME \n",
                "				 AND SRH.Name = SRH.Name\n",
                "			         THEN 'Y' \n",
                "					 ELSE 'N'\n",
                "\n",
                "		  END AS Flag_Error_Wrong_Shift_Type\n",
                "\n",
                "FROM  FACT_S*_A*** LEFT JOIN DIM_S*** S \n",
                "      ON S***_ID = S.S****_ID LEFT JOIN Fact_S S**ift SS\n",
                "\n",
                "WHERE  SS.SHIFT_TYPE_NAME IN ('N L****', 'W** N**', 'S**', 'P*** C***',\n",
                "	                         'N**P****C', 'S***W**N', 'S***S')\n",
                "\n",
                "AND S.CREATED_DATE >= GETDATE()-31"
            ],
            "metadata": {
                "azdata_cell_guid": "36062a57-ddbf-44e0-b8e0-a0ccc2185326"
            },
            "outputs": [],
            "execution_count": null
        }
    ]
}