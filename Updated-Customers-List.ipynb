{
    "metadata": {
        "kernelspec": {
            "name": "SQL",
            "display_name": "SQL",
            "language": "sql"
        },
        "language_info": {
            "name": "sql",
            "version": ""
        }
    },
    "nbformat_minor": 2,
    "nbformat": 4,
    "cells": [
        {
            "cell_type": "markdown",
            "source": [
                "  =============================================\n",
                "        \n",
                "        \n",
                "        Author: Yemisi Adeoluwa \n",
                "        Date: 23/07/2018 \n",
                "        Description: SCRIPT FOR CUSTOMERS UPDATE SELECT STATEMENT\n",
                "        VERSION 2\n",
                "       \n",
                " ============================================="
            ],
            "metadata": {
                "azdata_cell_guid": "6b3cfbea-2ab3-497e-84b0-d935364c7daa"
            }
        },
        {
            "cell_type": "code",
            "source": [
                "\r\n",
                "\r\n",
                "--SET DATABASE IN USE\r\n",
                "\r\n",
                "\tUSE EL**\r\n",
                "\r\n",
                "--DECLARE VARIABLES\r\n",
                "\r\n",
                "\tDECLARE @TODAY DATETIME\r\n",
                "\tDECLARE @SYSUSERID INT\r\n",
                "\tDECLARE @CHANGETYPE VARCHAR(1)\r\n",
                "\r\n",
                "\r\n",
                "\tSELECT @TODAY = GETDATE()\r\n",
                "\tSELECT @SYSUSERID = SysUserId from SysUser where SysUserName = 'Yemisi.Adeoluwa'\r\n",
                "\tSELECT @CHANGETYPE = 'D' \r\n",
                "\r\n",
                "\r\n",
                "SELECT \t  DISTINCT\r\n",
                "\t\t  c.CustomerId\r\n",
                "\t\t  ,c.ARAccountCode \r\n",
                "\t\t  ,c.CustomerName\r\n",
                "\t\t  ,cst.CustomerStateId\r\n",
                "\t\t  ,cst.[Description] AS CustomerStateStatus\r\n",
                "\t\t  ,ISNULL(V.[OutstandingAmount],0) AS Outstanding_Amount\r\n",
                "\t\t  ,ISNULL(vc.[UnallocatedAmount],0) AS UnallocatedAmount\r\n",
                "\t\t  ,ISNULL(V.[OutstandingAmount],0)-ISNULL(vc.[UnallocatedAmount],0) AS Full_Balance\r\n",
                "\t\t  \r\n",
                "\r\n",
                "FROM \t  dbo.V_Inv*O*A* AS V INNER JOIN\r\n",
                "\t\t  dbo.V_C*U*A* AS vc ON V.C* = vc.C* INNER JOIN\r\n",
                "\t\t  dbo.C* AS c ON vc.C* = c.C* LEFT JOIN\r\n",
                "\t\t  dbo.C*S* AS cst ON c.C*S* = cst.C*S* \n",
                "\r\n",
                "WHERE\t  c.ARAccountCode != '3352'\r\n",
                "\t\t  AND cst.CustomerStateId = 1  -- all open customers\r\n",
                "\t\t  AND c.CustomerId NOT IN       (SELECT    c.CustomerId\r\n",
                "\t\t\t\t\t\t\t\t         FROM      dbo.S*O*  AS so LEFT JOIN\r\n",
                "\t\t\t\t\t\t\t\t\t\t\t       dbo.C*S* AS cs ON so.C*S* = cs.C*S* \n",
                "\r\n",
                "\t\t\t\t\t\t\t\t         WHERE     --so.IsDeleted <> 1 removed as duplicate where clause from below\r\n",
                "\t\t\t\t\t\t\t\t\t               cst.CustomerStateId = 1\r\n",
                "\t\t\t\t\t\t\t\t\t\t\t\t   AND so.IsDeleted != 1\r\n",
                "\t\t\t\t\t\t\t\t\t\t\t       AND (so.ValidUntil >= getdate()\r\n",
                "\t\t\t\t\t\t\t\t\t\t\t\t   OR so.ValidUntil IS NULL)\r\n",
                "\t\t\t\t\t\t\t\t\t\t\t       AND so.SiteOrderId IS NOT NULL)\r\n",
                "ORDER BY --CustomerId ASC,\r\n",
                "\t\t Full_Balance DESC\r\n",
                "  \r\n",
                "\r\n",
                "\t\t\t "
            ],
            "metadata": {
                "azdata_cell_guid": "b6916e73-8c7c-4e34-ab27-45f1066563a1"
            },
            "outputs": [],
            "execution_count": null
        }
    ]
}