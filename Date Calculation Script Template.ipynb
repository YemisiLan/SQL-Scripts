{
    "metadata": {
        "kernelspec": {
            "name": "SQL",
            "display_name": "SQL",
            "language": "sql"
        },
        "language_info": {
            "name": "sql",
            "version": ""
        }
    },
    "nbformat_minor": 2,
    "nbformat": 4,
    "cells": [
        {
            "cell_type": "markdown",
            "source": [
                "    Yemisi Adeoluwa\r\n",
                "    12/09/2019\r\n",
                "    DATE FUNCTION\r\n",
                "    Script to Convert Date format, full custom format date, Date Calculations,"
            ],
            "metadata": {
                "azdata_cell_guid": "a5c6d4f0-9f83-478c-9764-fd6abd2bb8e9"
            }
        },
        {
            "cell_type": "code",
            "source": [
                "SELECT TOP (1000) [BusinessEntityID]\r\n",
                "      ,[NationalIDNumber]\r\n",
                "      ,[LoginID]\r\n",
                "      ,[OrganizationNode]\r\n",
                "      ,[OrganizationLevel]\r\n",
                "      ,[JobTitle]\r\n",
                "\t  ,BirthDate\r\n",
                "      ,CONVERT(CHAR(8),BirthDate,3) AS BirthDate\r\n",
                "      ,[Gender]\r\n",
                "      ,CONVERT(CHAR(8),[ModifiedDate],4) AS ModifiedDate\r\n",
                "\t  ,DATENAME (DW, ModifiedDate) + ' ' + \r\n",
                "\t   DATENAME(DD,ModifiedDate) + ' ' + \r\n",
                "\t   DATENAME(MM,ModifiedDate) + ' ' + \r\n",
                "\t   DATENAME(YY,ModifiedDate) AS Full_Customed_Formatted_Date\r\n",
                "\r\n",
                "  FROM [AdventureWorks2017].[HumanResources].[Employee]"
            ],
            "metadata": {
                "azdata_cell_guid": "31814dc2-e0be-41a7-8c1f-2d962fc8b7d6"
            },
            "outputs": [],
            "execution_count": null
        },
        {
            "cell_type": "markdown",
            "source": [
                "    This script would calculate the date but watch out\r\n",
                "    for the DateDiff when calculating the datediff YY,\r\n",
                "    it wont give you the accurate year difference"
            ],
            "metadata": {
                "azdata_cell_guid": "3b2a53d9-75b6-4c96-a4d6-e19980eafd0f"
            }
        },
        {
            "cell_type": "code",
            "source": [
                " SELECT TOP (1000) [BusinessEntityID]\r\n",
                "      ,[NationalIDNumber]\r\n",
                "\t  ,BirthDate\r\n",
                "      ,DATEDIFF(DD,BirthDate,GETDATE()) AS Age_in_Days\r\n",
                "\t  ,DATEDIFF(YY,BirthDate,GETDATE()) AS Age_in_Years\r\n",
                "\r\n",
                "  FROM [AdventureWorks2017].[HumanResources].[Employee]\r\n",
                ""
            ],
            "metadata": {
                "azdata_cell_guid": "a590bd83-827c-4cf2-ab6c-6b4b923ace0c"
            },
            "outputs": [],
            "execution_count": null
        },
        {
            "cell_type": "markdown",
            "source": [
                "    This is the accurately calculate the datediff \r\n",
                "    between the age and year"
            ],
            "metadata": {
                "azdata_cell_guid": "70020e99-d894-45b6-ac27-ef1c24e4296a"
            }
        },
        {
            "cell_type": "code",
            "source": [
                " SELECT TOP (1000) [BusinessEntityID]\r\n",
                "      ,[NationalIDNumber]\r\n",
                "\t  ,BirthDate\r\n",
                "      ,DATEDIFF(DD,BirthDate,GETDATE()) AS Age_in_Days"
            ],
            "metadata": {
                "azdata_cell_guid": "e01f7f22-66b0-4de4-b13e-c608f610a12a"
            },
            "outputs": [],
            "execution_count": null
        },
        {
            "cell_type": "markdown",
            "source": [
                "    This is only calculating the years example: 2013 - 2019 = 6;\r\n",
                "    2013 jan - 2020 jan = 7 this is very wrong to use to get accurate date"
            ],
            "metadata": {
                "azdata_cell_guid": "a3f59ff9-4664-4f5b-8593-d8d6c098a043"
            }
        },
        {
            "cell_type": "code",
            "source": [
                ",DATEDIFF(YY,BirthDate,GETDATE()) AS Age_in_Years"
            ],
            "metadata": {
                "azdata_cell_guid": "403aae0c-14af-4113-8a3c-381f1b945585"
            },
            "outputs": [],
            "execution_count": null
        },
        {
            "cell_type": "markdown",
            "source": [
                "      This would give you the birthdate of the person/product/item"
            ],
            "metadata": {
                "azdata_cell_guid": "17e9a54f-80b1-4fff-9fcf-8d35ba3c4d36"
            }
        },
        {
            "cell_type": "code",
            "source": [
                "  ,DATEADD(YY,DATEDIFF(YY,BirthDate,GETDATE()),BirthDate)"
            ],
            "metadata": {
                "azdata_cell_guid": "5f323bad-c09e-4852-a135-2cf49e07aab8"
            },
            "outputs": [],
            "execution_count": null
        },
        {
            "cell_type": "markdown",
            "source": [
                "     We would now use the case statement to get the accurate calculation \r\n",
                "     of the date of birth by putting a condition: \r\n",
                "     if the birthday date is greater than today \r\n",
                "     then remove 1 year from the DATEDIFF of YY calculation,\r\n",
                "     but if not do not remove 1 year from the DATEDIFF of YY calculation"
            ],
            "metadata": {
                "azdata_cell_guid": "f2943464-e121-435e-81df-b501178d1c13"
            }
        },
        {
            "cell_type": "code",
            "source": [
                ",CASE\n",
                "	      WHEN DATEADD(YY,DATEDIFF(YY,BirthDate,GETDATE()),BirthDate) >\n",
                "		       GETDATE()\n",
                "		  THEN DATEDIFF(YY,BirthDate,GETDATE()) -1\n",
                "		  ELSE DATEDIFF(YY,BirthDate,GETDATE())\n",
                "	  END AS Accurate_DOB\n",
                "	FROM [AdventureWorks2017].[HumanResources].[Employee]"
            ],
            "metadata": {
                "azdata_cell_guid": "8aacad10-a445-41ea-8900-a97f5f5f27c5"
            },
            "outputs": [],
            "execution_count": null
        }
    ]
}