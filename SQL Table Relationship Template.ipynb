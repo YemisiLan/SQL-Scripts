{
    "metadata": {
        "kernelspec": {
            "name": "SQL",
            "display_name": "SQL",
            "language": "sql"
        },
        "language_info": {
            "name": "sql",
            "version": ""
        }
    },
    "nbformat_minor": 2,
    "nbformat": 4,
    "cells": [
        {
            "cell_type": "code",
            "source": [
                "SELECT\n",
                "fk.name 'FK Name',\n",
                "tp.name 'Parent table',\n",
                "cp.name, cp.column_id,\n",
                "tr.name 'Refrenced table',\n",
                "cr.name, cr.column_id\n",
                "FROM \n",
                "    sys.foreign_keys fk\n",
                "INNER JOIN \n",
                "    sys.tables tp ON fk.parent_object_id = tp.object_id\n",
                "INNER JOIN \n",
                "    sys.tables tr ON fk.referenced_object_id = tr.object_id\n",
                "INNER JOIN \n",
                "    sys.foreign_key_columns fkc ON fkc.constraint_object_id = fk.object_id\n",
                "INNER JOIN \n",
                "    sys.columns cp ON fkc.parent_column_id = cp.column_id AND fkc.parent_object_id = cp.object_id\n",
                "INNER JOIN \n",
                "    sys.columns cr ON fkc.referenced_column_id = cr.column_id AND fkc.referenced_object_id = cr.object_id\n",
                "ORDER BY\n",
                " tp.name, cp.column_id"
            ],
            "metadata": {
                "azdata_cell_guid": "112ad441-dfe4-4c24-a1a7-45f231707266"
            },
            "outputs": [],
            "execution_count": null
        }
    ]
}