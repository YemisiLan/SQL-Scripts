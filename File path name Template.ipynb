{
    "metadata": {
        "kernelspec": {
            "name": "SQL",
            "display_name": "SQL",
            "language": "sql"
        },
        "language_info": {
            "name": "sql",
            "version": ""
        }
    },
    "nbformat_minor": 2,
    "nbformat": 4,
    "cells": [
        {
            "cell_type": "markdown",
            "source": [
                "      Author: Yemisi Adeoluwa\r\n",
                "      Script Description: To identify the file path name"
            ],
            "metadata": {
                "azdata_cell_guid": "66668dcb-f9d7-4127-aa73-d23c4fa9ffc8"
            }
        },
        {
            "cell_type": "code",
            "source": [
                "SELECT * FROM sys.database_files"
            ],
            "metadata": {
                "azdata_cell_guid": "f4b3e42a-a28e-48f9-acec-1534005b0dd9"
            },
            "outputs": [],
            "execution_count": null
        }
    ]
}