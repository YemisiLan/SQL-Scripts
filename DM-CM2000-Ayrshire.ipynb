{
    "metadata": {
        "kernelspec": {
            "name": "SQL",
            "display_name": "SQL",
            "language": "sql"
        },
        "language_info": {
            "name": "sql",
            "version": ""
        }
    },
    "nbformat_minor": 2,
    "nbformat": 4,
    "cells": [
        {
            "cell_type": "markdown",
            "source": [
                "\r\n",
                "    SET ANSI_NULLS ON\r\n",
                "    GO\r\n",
                "    SET QUOTED_IDENTIFIER ON\r\n",
                "    GO"
            ],
            "metadata": {
                "azdata_cell_guid": "8f4eb751-4eb3-4fa2-8824-b84016e17667"
            }
        },
        {
            "cell_type": "markdown",
            "source": [
                "==============================================================================================================================================================\r\n",
                "\r\n",
                "    Name: Yemisi Adeoluwa\r\n",
                "    Date: 07/11/19\r\n",
                "    Description: A daily extract for  New Services, New PAs, New Scheduled shifts without 1:2 Service Type and Scheduled Shifts for 1:2 service type for\n",
                "    Non leave, Waking Nights, Sleepovers, Non / Personal Care shifts happening in the future in North Ayrshire (_NAC)\r\n",
                "    Comment: Subshift that has been published\r\n",
                "\r\n",
                "=============================================================================================================================================================="
            ],
            "metadata": {
                "azdata_cell_guid": "bd7489b0-725e-4e4c-8cc0-95cabc3e1ca5"
            }
        },
        {
            "cell_type": "markdown",
            "source": [
                "    ALTER PROC [dbo].[DM_CM2000_Ayrshire]\r\n",
                "    AS"
            ],
            "metadata": {
                "azdata_cell_guid": "f6c694c7-49ea-4446-a71b-5a3b4356949e"
            }
        },
        {
            "cell_type": "code",
            "source": [
                "DECLARE  @OrgName Nvarchar(100) = 'A***'\r\n",
                "        ,@ShiftName Nvarchar(100) = 'N*** P** C***'\r\n",
                "\t\t,@ShiftName1 Nvarchar(100) = 'W* N**'\r\n",
                "\t\t,@ShiftName2 Nvarchar(100) = 'S*****'\r\n",
                "\t\t,@ShiftName3 Nvarchar(100) = 'P*** C****'\r\n",
                "\t\t,@ShiftName4 Nvarchar(100) = 'S*** W*** N***'\r\n",
                "\t\t,@ShiftName5 Nvarchar(100) = 'S*** S****'\r\n",
                "\t\t,@ShiftName6 Nvarchar(100) = 'N** L***'\r\n",
                "\t\t,@PublishDate Nvarchar(15) = 'SS.P**_Date'\r\n",
                "\r\n",
                "BEGIN"
            ],
            "metadata": {
                "azdata_cell_guid": "aaa6891d-2106-443a-8b40-5f076dccc027"
            },
            "outputs": [],
            "execution_count": null
        },
        {
            "cell_type": "markdown",
            "source": [
                ""
            ],
            "metadata": {
                "azdata_cell_guid": "17bcdd5b-fd2c-4fb8-8158-7f6777666886"
            }
        },
        {
            "cell_type": "markdown",
            "source": [
                "     Query 1: New Services"
            ],
            "metadata": {
                "azdata_cell_guid": "f0f8dde4-34cc-401b-a217-9e3b12dd53b0"
            }
        },
        {
            "cell_type": "code",
            "source": [
                "SELECT DISTINCT\r\n",
                "\r\n",
                "         CASE WHEN CAST(CAST(SP1.Start_Date_SK AS VARCHAR(255)) as date) >= (GETDATE()-41) THEN '7'\r\n",
                "              ELSE '' \r\n",
                "               END [Data Type ID]\r\n",
                "\r\n",
                "\t    ,'' [Unique Visit ID]\r\n",
                "\r\n",
                "\t\t,'' [Date]\r\n",
                "\t\t,'' [Start Time]\r\n",
                "        ,''+ ',' [End Time] \r\n",
                "\t\t,SP1.Shift_Property_Code + ',,,' [Unique Client ID]\t\r\n",
                "        ,LEFT(SP1.SHIFT_PROPERTY_DESCRIPTION,CHARINDEX(' ',SP1.SHIFT_PROPERTY_DESCRIPTION + ' ') -2) [Client Forename]\r\n",
                "\t    ,RIGHT(SP1.SHIFT_PROPERTY_DESCRIPTION,  6) [Client Surname] \r\n",
                "\t\t,'' +',,,,' [Unique Carer ID]\r\n",
                "\t\t,'' [Carer Forename]\r\n",
                "\t\t,'' +',,,,,,,,,'[Carer Surname]\r\n",
                "\r\n",
                "\t\t,'3024926' [Social Services ID] -- TOM PLEASE CAN YOU KINDLY DELETE THIS ONE AND USE THE BELOW ONE THANK YOU\r\n",
                "\t\t--,SPR.RATE [Social Services ID]   --TOM PLEASE CAN YOU KINDLY USE THIS INSTEAD OF THE ABOVE ONE AFTER ITS TABLE DM_DIM_SHIFT_PROPERTY_REVISION HAS BEEN ADDED\r\n",
                "\t\t\r\n",
                "\t\t,CONVERT(CHAR(10),SP1.Start_Date_SK,103) + ',,,,,' [Start Date]\r\n",
                "\t\t,''+ ',,,,,,,,,' [Contact_Type_ID]\r\n",
                "\r\n",
                "FROM   DM_Fact_SCH**_SUB** SS  LEFT JOIN DM_DIM_SCH**_S*** S\r\n",
                "       ON S.Sch***_Sh**_ID = SS.Sch**_Sh***_ID LEFT JOIN DM_DIM_EMP*** EE \r\n",
                "       *******************************\r\n",
                "\r\n",
                "WHERE    EE.LOGIN_ID IS NOT NULL\r\n",
                "         AND CAST(CAST(SP1.Start_Date_SK AS VARCHAR(255)) as date) >= (GETDATE()-41)\r\n",
                "\t\t AND SS.Start_Date >= (GETDATE()-7) \r\n",
                "\t\t AND @PublishDate IS NOT NULL \r\n",
                "\t     AND ORGPA.ORG_NAME = @OrgName\r\n",
                "\t     AND SS.SHIFT_TYPE_NAME IN(@ShiftName,@ShiftName1,@ShiftName2,@ShiftName3,@ShiftName4,@ShiftName5)\r\n",
                "\t\t AND SP1.Shift_Property_Code LIKE ('%N**%')\r\n",
                "\r\n",
                "UNION"
            ],
            "metadata": {
                "azdata_cell_guid": "7add2961-4140-485c-a936-f830ffaf1b3e"
            },
            "outputs": [],
            "execution_count": null
        },
        {
            "cell_type": "markdown",
            "source": [
                "    Query 2: New PAs"
            ],
            "metadata": {
                "azdata_cell_guid": "a554f3f8-3277-4274-a230-a4c0dbc8fd5a"
            }
        },
        {
            "cell_type": "code",
            "source": [
                "SELECT DISTINCT\r\n",
                "\r\n",
                "           CASE WHEN CAST(CAST(EE.Start_Date_SK AS VARCHAR(255)) as date) >= (GETDATE()-41) THEN ' 11 '\r\n",
                "\t\t        ELSE ''\r\n",
                "\t\t\t\t    END [Data Type ID]\r\n",
                "\r\n",
                "\t\t,'' [Unique Visit ID]\r\n",
                "\t\t,'' [Date]\r\n",
                "\t\t,'' [Start Time]\r\n",
                "        ,''+ ',' [End Time] \r\n",
                "\t\t,''+ ',,,' [Unique Client ID]\t\r\n",
                "\t\t,'' [Client Forename]\r\n",
                "\t    ,'' [Client Surname]\r\n",
                "\t\t,EE.LOGIN_ID +',,,,' [Unique Carer ID]\r\n",
                "\t\t,EE.FIRST_NAME [Carer Forename]\r\n",
                "\t\t,EE.LAST_NAME +',,,,,,,,,'[Carer Surname]\r\n",
                "\t\t,'' [Social_Services_ID]\r\n",
                "\t\t,CONVERT(CHAR(10),EE.Start_Date_SK,103) + ',,,,,' [Start Date]\r\n",
                "\t\t,''+ ',,,,,,,,,' [Contact_Type_ID]\r\n",
                "\r\n",
                "FROM   DM_Fact_S**_S** SS  LEFT JOIN DM_DIM_S**_SHIFT S\r\n",
                "       ON S.S**_Shift_ID = SS.Sche**ID ****************\r\n",
                "                \r\n",
                "WHERE    EE.LOGIN_ID IS NOT NULL\r\n",
                "         AND CAST(CAST(EE.Start_Date_SK AS VARCHAR(255)) as date) >= (GETDATE()-41)\r\n",
                "\t\t AND SS.Start_Date >= (GETDATE()-7) \r\n",
                "\t\t AND @PublishDate IS NOT NULL \r\n",
                "\t     AND ORGPA.ORG_NAME = @OrgName\r\n",
                "\t     AND SS.SHIFT_TYPE_NAME IN(@ShiftName,@ShiftName1,@ShiftName2,@ShiftName3,@ShiftName4,@ShiftName5)\r\n",
                "\t\t AND SP1.Shift_Property_Code LIKE ('%N**%')   \r\n",
                "\r\n",
                " UNION"
            ],
            "metadata": {
                "azdata_cell_guid": "84298093-d899-4eb8-b2a5-64828773bf44"
            },
            "outputs": [],
            "execution_count": null
        },
        {
            "cell_type": "markdown",
            "source": [
                "     Query3:  New scheduled shifts without 1:2 service type"
            ],
            "metadata": {
                "azdata_cell_guid": "4601ce6a-0b8f-4571-8bc1-1492b7a6cf09"
            }
        },
        {
            "cell_type": "code",
            "source": [
                "SELECT DISTINCT\r\n",
                "         CASE WHEN SP1.Shift_Property_Code LIKE '%N**%' THEN '3'\r\n",
                "              ELSE '' \r\n",
                "\t\t\t     END [Data Type ID]\r\n",
                "\r\n",
                "\t\t,CAST(CAST(SS.Schedule_Subshift_ID AS VARCHAR(20)) + '  ' AS VARCHAR(24)) [Unique Visit ID]\r\n",
                "\t\t,CONVERT(CHAR(10),SS.START_DATE, 103) [Date]\r\n",
                "\t\t,CONVERT(VARCHAR(5),SS.START_DATE,108) [Start Time]\r\n",
                "        ,CONVERT(VARCHAR(5),SS.END_DATE,108) + ',' [End Time] \r\n",
                "\t\t,SP1.Shift_Property_Code + ',,,' [Unique Client ID]\t\r\n",
                "\t\t,'' [Client Forename]\r\n",
                "\t    ,'' [Client Surname]  \r\n",
                "\t\t,EE.LOGIN_ID +',,,,' [Unique Carer ID]\r\n",
                "\t\t,'' [Carer Forename]\r\n",
                "\t\t,'' +',,,,,,,,,'[Carer Surname]\r\n",
                "\t\t,'' [Social_Services_ID]\r\n",
                "        ,''+ ',,,,,' [Start Date]\r\n",
                "\t\t,SS.SHIFT_TYPE_NAME + ',,,,,,,,,' [Contact_Type_ID]\r\n",
                "\r\n",
                "FROM   DM_Fact_S**  SS  LEFT JOIN DM_DIM_S** S\r\n",
                "       ON S.S**ID = SS.Sch**_S**_ID LEFT JOIN DM_DIM_EM** EE \r\n",
                "\r\n",
                "                \r\n",
                "WHERE  @PublishDate IS NOT NULL  \r\n",
                "        AND EE.LOGIN_ID IS NOT NULL\r\n",
                "\t    AND ORGPA.ORG_NAME = @OrgName\r\n",
                "\t    AND SS.SHIFT_TYPE_NAME IN(@ShiftName,@ShiftName1,@ShiftName2,@ShiftName3,@ShiftName4,@ShiftName5)\r\n",
                "\t\tAND SP1.Shift_Property_Code LIKE ('%N**%')\r\n",
                "\t\tAND SP2.SHIFT_PROPERTY_CODE != '**Su**t'\r\n",
                "\t    AND SS.Start_Date >= (GETDATE()-7) \r\n",
                "\r\n",
                "UNION"
            ],
            "metadata": {
                "azdata_cell_guid": "9491c813-65e1-4bd2-bc55-4c8b8e540788",
                "tags": []
            },
            "outputs": [],
            "execution_count": null
        },
        {
            "cell_type": "markdown",
            "source": [
                "    Query 4: schedule shifts for 1:2 service type, that shows the second service with the same Unique Visit ID has 2 at the end"
            ],
            "metadata": {
                "azdata_cell_guid": "4c6e3826-1c17-4a2e-8520-14ac88c1da0d"
            }
        },
        {
            "cell_type": "code",
            "source": [
                "SELECT DISTINCT\r\n",
                "\r\n",
                "       CASE WHEN SP2.SHIFT_PROPERTY_CODE = '1:2 Support' THEN '3'\r\n",
                "             ELSE '' \r\n",
                "\t\t\t    END [Data Type ID]\r\n",
                "\r\n",
                "       ,CASE Row_Number() OVER (Partition By CAST(SS.Schedule_Subshift_ID AS VARCHAR(20)) Order By SP1.Shift_Property_Code) \r\n",
                "              WHEN 1 then CAST(SS.Schedule_Subshift_ID AS VARCHAR(20))\r\n",
                "              WHEN 2 then CAST(CAST(SS.Schedule_Subshift_ID AS VARCHAR(20)) + '2' AS VARCHAR(24)) \r\n",
                "                   END [Unique Visit ID]\r\n",
                "\r\n",
                "\t\t,CONVERT(CHAR(10),SS.START_DATE, 103) [Date]\r\n",
                "\t\t,CONVERT(VARCHAR(5),SS.START_DATE,108) [Start Time]\r\n",
                "        ,CONVERT(VARCHAR(5),SS.END_DATE,108) + ',' [End Time] \r\n",
                "\t\t,SP1.Shift_Property_Code + ',,,' [Unique Client ID]\t\r\n",
                "\t\t,'' [Client Forename]\r\n",
                "\t    ,'' [Client Surname] \r\n",
                "\t\t,EE.LOGIN_ID +',,,,' [Unique Carer ID]\r\n",
                "\t\t,'' [Carer Forename]\r\n",
                "\t\t,'' +',,,,,,,,,'[Carer Surname]\r\n",
                "\t\t,'' [Social_Services_ID]\r\n",
                "        ,''+ ',,,,,' [Start Date]\r\n",
                "\t\t,SS.SHIFT_TYPE_NAME + ',,,,,,,,,' [Contact_Type_ID]\r\n",
                "\t\t\r\n",
                "\r\n",
                "FROM   DM_Fact_SS SS  LEFT JOIN DM_DIM_SS S\r\n",
                "       ON S.Sc_S_ID = SS.S_S_ID LEFT JOIN DM_DIM_EMP EE \r\n",
                "                    \r\n",
                "WHERE   @PublishDate IS NOT NULL \r\n",
                "        and SP2.SHIFT_PROPERTY_CODE = '1:2 S**'\r\n",
                "        AND EE.LOGIN_ID IS NOT NULL\r\n",
                "\t    AND ORGPA.ORG_NAME = @OrgName\r\n",
                "\t    AND SS.SHIFT_TYPE_NAME IN(@ShiftName,@ShiftName1,@ShiftName2,@ShiftName3,@ShiftName4,@ShiftName5)\r\n",
                "\t\tAND SP1.Shift_Property_Code LIKE ('%N**%')\r\n",
                "\t    AND SS.Start_Date >= (GETDATE()-7)  \r\n",
                "\t\t\r\n",
                "ORDER BY [Client Forename] DESC\r\n",
                "\r\n",
                "END"
            ],
            "metadata": {
                "azdata_cell_guid": "3a6a3d2c-ba37-47b7-9438-bb9fcd139340"
            },
            "outputs": [],
            "execution_count": null
        }
    ]
}