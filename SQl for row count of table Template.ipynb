{
    "metadata": {
        "kernelspec": {
            "name": "SQL",
            "display_name": "SQL",
            "language": "sql"
        },
        "language_info": {
            "name": "sql",
            "version": ""
        }
    },
    "nbformat_minor": 2,
    "nbformat": 4,
    "cells": [
        {
            "cell_type": "markdown",
            "source": [
                "    Yemisi Adeoluwa\r\n",
                "    23-09-19\r\n",
                "    Script: Query to show list of tables ordered by number of records in each table"
            ],
            "metadata": {
                "azdata_cell_guid": "db9b6f78-81ae-44df-9b92-028bf2d0177d"
            }
        },
        {
            "cell_type": "code",
            "source": [
                "SELECT\r\n",
                "        t.NAME AS TableName,\r\n",
                "        SUM(p.rows) AS [RowCount]\r\n",
                "    FROM \r\n",
                "        sys.tables t\r\n",
                "    INNER JOIN      \r\n",
                "        sys.indexes i ON t.OBJECT_ID = i.object_id\r\n",
                "    INNER JOIN \r\n",
                "        sys.partitions p ON i.object_id = p.OBJECT_ID AND i.index_id = p.index_id\r\n",
                "    INNER JOIN \r\n",
                "        sys.columns c on t.object_id = c.object_id\r\n",
                "    WHERE   \r\n",
                "        i.index_id <= 1\r\n",
                "    GROUP BY \r\n",
                "        t.NAME, i.object_id, i.index_id, i.name \r\n",
                "    ORDER BY \r\n",
                "        SUM(p.rows) DESC"
            ],
            "metadata": {
                "azdata_cell_guid": "20c1abde-9613-469f-b9ba-bc7d575de231",
                "tags": []
            },
            "outputs": [],
            "execution_count": null
        },
        {
            "cell_type": "markdown",
            "source": [
                "        Query to show any columns or table names like what I'm looking for"
            ],
            "metadata": {
                "azdata_cell_guid": "b92e8853-461d-4a9f-a26e-16e8c16bd0ee"
            }
        },
        {
            "cell_type": "code",
            "source": [
                "SELECT\r\n",
                "    c.name, t.name\r\n",
                "FROM sys.columns c\r\n",
                "    INNER JOIN sys.tables t ON c.object_id = t.object_id\r\n",
                "WHERE c.name LIKE '%#ColumnName%' OR t.name LIKE '%#TableName%'"
            ],
            "metadata": {
                "azdata_cell_guid": "1e66e5d0-1d31-4301-aee1-7b69861c126f"
            },
            "outputs": [],
            "execution_count": null
        }
    ]
}