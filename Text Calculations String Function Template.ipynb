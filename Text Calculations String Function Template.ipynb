{
    "metadata": {
        "kernelspec": {
            "name": "SQL",
            "display_name": "SQL",
            "language": "sql"
        },
        "language_info": {
            "name": "sql",
            "version": ""
        }
    },
    "nbformat_minor": 2,
    "nbformat": 4,
    "cells": [
        {
            "cell_type": "markdown",
            "source": [
                "     Yemisi Adeoluwa\r\n",
                "     12/09/2019\r\n",
                "     Script to for text calculations using String function"
            ],
            "metadata": {
                "azdata_cell_guid": "c441c0a1-d145-4393-8285-b75384f2a00d"
            }
        },
        {
            "cell_type": "code",
            "source": [
                "SELECT TOP (1000) [AddressID]\r\n",
                "      ,[AddressLine1]\r\n",
                "      ,LEFT(AddressLine1,CHARINDEX(' ',AddressLine1)-1) AS HouseNumber\r\n",
                "\t  ,RIGHT(AddressLine1,LEN(AddressLine1)-CHARINDEX(' ',AddressLine1)) AS Address\r\n",
                "  FROM [AdventureWorks2017].[Person].[Address]"
            ],
            "metadata": {
                "azdata_cell_guid": "cb899e3b-762a-4b1b-af68-2f17db326172"
            },
            "outputs": [],
            "execution_count": null
        },
        {
            "cell_type": "markdown",
            "source": [
                "      USING SUBSTRING AND CHARINDEX\n",
                "       ,SUBSTRING(SRH.Name, CHARINDEX(' ',SRH.Name)+1, Len(SRH.Name))"
            ],
            "metadata": {
                "azdata_cell_guid": "f9b25675-d662-44be-a174-1f4fdcb664bf"
            }
        }
    ]
}